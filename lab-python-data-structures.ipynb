{
 "cells": [
  {
   "cell_type": "markdown",
   "metadata": {},
   "source": [
    "## Exercise: Managing Customer Orders\n",
    "\n",
    "As part of a business venture, you are starting an online store that sells various products. To ensure smooth operations, you need to develop a program that manages customer orders and inventory.\n",
    "\n",
    "Follow the steps below to complete the exercise:\n",
    "\n",
    "1. Define a list called `products` that contains the following items: \"t-shirt\", \"mug\", \"hat\", \"book\", \"keychain\".\n",
    "\n",
    "2. Create an empty dictionary called `inventory`.\n",
    "\n",
    "3. Ask the user to input the quantity of each product available in the inventory. Use the product names from the `products` list as keys in the `inventory` dictionary and assign the respective quantities as values.\n",
    "\n",
    "4. Create an empty set called `customer_orders`.\n",
    "\n",
    "5. Ask the user to input the name of three products that a customer wants to order (from those in the products list, meaning three products out of \"t-shirt\", \"mug\", \"hat\", \"book\" or \"keychain\". Add each product name to the `customer_orders` set.\n",
    "\n",
    "6. Print the products in the `customer_orders` set.\n",
    "\n",
    "7. Calculate the following order statistics:\n",
    "   - Total Products Ordered: The total number of products in the `customer_orders` set.\n",
    "   - Percentage of Products Ordered: The percentage of products ordered compared to the total available products.\n",
    "   \n",
    "   Store these statistics in a tuple called `order_status`.\n",
    "\n",
    "8. Print the order statistics using the following format:\n",
    "   ```\n",
    "   Order Statistics:\n",
    "   Total Products Ordered: <total_products_ordered>\n",
    "   Percentage of Products Ordered: <percentage_ordered>% \n",
    "   ```\n",
    "\n",
    "9. Update the inventory by subtracting 1 from the quantity of each product. Modify the `inventory` dictionary accordingly.\n",
    "\n",
    "10. Print the updated inventory, displaying the quantity of each product on separate lines.\n",
    "\n",
    "Solve the exercise by implementing the steps using the Python concepts of lists, dictionaries, sets, and basic input/output operations. "
   ]
  },
  {
   "cell_type": "code",
   "execution_count": 1,
   "metadata": {
    "tags": []
   },
   "outputs": [],
   "source": [
    "# Lab | Data Structures \n",
    "# Define a list called products that contains the following items: \"t-shirt\", \"mug\", \"hat\", \"book\", \"keychain\".\n",
    "\n",
    "products = [\"t-shirt\", \"mug\", \"hat\", \"book\", \"keychain\"]"
   ]
  },
  {
   "cell_type": "code",
   "execution_count": 2,
   "metadata": {},
   "outputs": [],
   "source": [
    "# Create an empty dictionary called inventory.\n",
    "\n",
    "inventory = {}"
   ]
  },
  {
   "cell_type": "code",
   "execution_count": 3,
   "metadata": {},
   "outputs": [
    {
     "name": "stdin",
     "output_type": "stream",
     "text": [
      "Enter the quantity of each products :, ['t-shirt', 'mug', 'hat', 'book', 'keychain'] 2\n",
      "Enter the quantity of each products :, ['t-shirt', 'mug', 'hat', 'book', 'keychain'] 4\n",
      "Enter the quantity of each products :, ['t-shirt', 'mug', 'hat', 'book', 'keychain'] 6\n",
      "Enter the quantity of each products :, ['t-shirt', 'mug', 'hat', 'book', 'keychain'] 8\n",
      "Enter the quantity of each products :, ['t-shirt', 'mug', 'hat', 'book', 'keychain'] 9\n"
     ]
    },
    {
     "data": {
      "text/plain": [
       "{'t-shirt': 2, 'mug': 4, 'hat': 6, 'book': 8, 'keychain': 9}"
      ]
     },
     "execution_count": 3,
     "metadata": {},
     "output_type": "execute_result"
    }
   ],
   "source": [
    "# Ask the user to input the quantity of each product available in the inventory. \n",
    "#Use the product names from the products list as keys in the inventory dictionary and assign the respective quantities as values.\n",
    "\n",
    "for product in products:\n",
    "    quantity = int(input(f\"Enter the quantity of each products :, {products}\"))\n",
    "    inventory[product] = quantity\n",
    "inventory\n"
   ]
  },
  {
   "cell_type": "code",
   "execution_count": 4,
   "metadata": {},
   "outputs": [],
   "source": [
    "# Create an empty set called customer_orders.\n",
    "\n",
    "customer_orders = set()"
   ]
  },
  {
   "cell_type": "code",
   "execution_count": 5,
   "metadata": {},
   "outputs": [
    {
     "name": "stdin",
     "output_type": "stream",
     "text": [
      "Enter the name of three products: hat\n",
      "Enter the name of three products: mug\n",
      "Enter the name of three products: keychain\n"
     ]
    },
    {
     "name": "stdout",
     "output_type": "stream",
     "text": [
      "\n",
      "produits commandés par le client: {'keychain', 'mug', 'hat'}\n"
     ]
    }
   ],
   "source": [
    "#Ask the user to input the name of three products that a customer wants to order \n",
    "# (from those in the products list, meaning three products out of \"t-shirt\", \"mug\", \"hat\", \"book\" or \"keychain\". \n",
    "# Add each product name to the customer_orders set.\n",
    "\n",
    "for x in range(3):\n",
    "    choice = input(\"Enter the name of three products:\").strip()\n",
    "    if choice in products:\n",
    "        customer_orders.add(choice)\n",
    "    else:\n",
    "        print(\"product not available.\")\n",
    "        \n",
    "# Print the products in the customer_orders set.\n",
    "print(\"\\nproduits commandés par le client:\", customer_orders)"
   ]
  },
  {
   "cell_type": "code",
   "execution_count": 9,
   "metadata": {},
   "outputs": [],
   "source": [
    "# Calculate the following order statistics:\n",
    "# Total Products Ordered: The total number of products in the customer_orders set.\n",
    "# Percentage of Products Ordered: The percentage of products ordered compared to the total available products.\n",
    "# Store these statistics in a tuple called order_status.\n",
    "\n",
    "total_products_ordered = len(customer_orders)\n",
    "percentage_of_products_ordered = (total_products_ordered/len(products)) * 100\n",
    "\n",
    "order_status = (total_products_ordered , percentage_of_products_ordered)"
   ]
  },
  {
   "cell_type": "code",
   "execution_count": 10,
   "metadata": {},
   "outputs": [
    {
     "name": "stdout",
     "output_type": "stream",
     "text": [
      "\n",
      "Order Statistics:\n",
      "Total products ordered: 3\n",
      "Percentage of products ordered:60.00%\n",
      "Status of order: (3, 60.0)\n"
     ]
    }
   ],
   "source": [
    "# Print the order statistics \n",
    "\n",
    "print(\"\\nOrder Statistics:\")\n",
    "print(\"Total products ordered:\", total_products_ordered)\n",
    "print(\"Percentage of products ordered:{:.2f}%\".format(percentage_of_products_ordered))\n",
    "print(\"Status of order:\", order_status)"
   ]
  },
  {
   "cell_type": "code",
   "execution_count": 11,
   "metadata": {},
   "outputs": [
    {
     "name": "stdout",
     "output_type": "stream",
     "text": [
      "\n",
      "Inventory:\n",
      "t-shirt: 0\n",
      "mug: 2\n",
      "hat: 4\n",
      "book: 6\n",
      "keychain: 7\n"
     ]
    }
   ],
   "source": [
    "# Update the inventory by subtracting 1 from the quantity of each product. Modify the inventory dictionary accordingly.\n",
    "\n",
    "for product in products:\n",
    "    if inventory[product]> 0:\n",
    "        inventory[product]-=1\n",
    "\n",
    "# Print the updated inventory, displaying the quantity of each product on separate lines.\n",
    "\n",
    "print(\"\\nInventory:\")\n",
    "for product, quantity in inventory.items():\n",
    "    print(f\"{product}: {quantity}\")\n",
    "\n",
    "# Solve the exercise by implementing the steps using the Python concepts of lists, dictionaries, sets, and basic input/output operations."
   ]
  }
 ],
 "metadata": {
  "kernelspec": {
   "display_name": "Python 3 (ipykernel)",
   "language": "python",
   "name": "python3"
  },
  "language_info": {
   "codemirror_mode": {
    "name": "ipython",
    "version": 3
   },
   "file_extension": ".py",
   "mimetype": "text/x-python",
   "name": "python",
   "nbconvert_exporter": "python",
   "pygments_lexer": "ipython3",
   "version": "3.12.4"
  }
 },
 "nbformat": 4,
 "nbformat_minor": 4
}
